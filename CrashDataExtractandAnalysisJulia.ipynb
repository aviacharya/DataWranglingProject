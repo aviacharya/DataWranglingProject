{
 "cells": [
  {
   "cell_type": "code",
   "execution_count": 1,
   "metadata": {},
   "outputs": [],
   "source": [
    "# Declaring the packages\n",
    "using Pkg,CSV\n",
    "using DataFrames\n",
    "using HTTP , JSON"
   ]
  },
  {
   "cell_type": "code",
   "execution_count": 3,
   "metadata": {},
   "outputs": [
    {
     "data": {
      "text/plain": [
       "\"https://opendata.arcgis.com/datasets/a163c5addf2c4b7f9079f08751bd2e1a_0.geojson?where=crashYear%20%3E%3D%202018%20AND%20crashYear%20%3C%3D%202018\""
      ]
     },
     "execution_count": 3,
     "metadata": {},
     "output_type": "execute_result"
    }
   ],
   "source": [
    "#Declaring the URL\n",
    "url=\"https://opendata.arcgis.com/datasets/a163c5addf2c4b7f9079f08751bd2e1a_0.geojson?where=crashYear%20%3E%3D%202018%20AND%20crashYear%20%3C%3D%202018\""
   ]
  },
  {
   "cell_type": "code",
   "execution_count": 5,
   "metadata": {},
   "outputs": [
    {
     "data": {
      "text/plain": [
       "HTTP.Messages.Response:\n",
       "\"\"\"\n",
       "HTTP/1.1 200 OK\r\n",
       "Server: openresty\r\n",
       "Date: Tue, 22 Oct 2019 10:22:20 GMT\r\n",
       "Content-Type: application/json; charset=utf-8\r\n",
       "Transfer-Encoding: chunked\r\n",
       "Connection: keep-alive\r\n",
       "Vary: Accept-Encoding\r\n",
       "Content-disposition: attachment; filename=Crash_Analysis_System_CAS_data.geojson\r\n",
       "Last-Modified: Thu, 10 Oct 2019 04:50:14 GMT\r\n",
       "ETag: W/\"c07d2036c74641b217748b437a138125\"\r\n",
       "x-amz-meta-retrieved_at: 2019-08-09T03:22:23.000Z\r\n",
       "\r\n",
       "{\"type\":\"FeatureCollection\",\"features\":[{\"type\":\"Feature\",\"properties\":{\"OBJECTID_1\":1312521,\"OBJECTID\":646826,\"crashYear\":2018,\"crashFinan\":\"2017/2018\",\"crashSever\":\"F\",\"fatalCount\":1,\"seriousInj\":1,\"minorInjur\":0,\"multiVehic\":\"Multi vehicle\",\"holiday\":\"Christmas/New Year\",\"regionDesc\":\"Wellington          \",\"tlaID\":48,\"tlaName\":\"Masterton District\",\"areaUnitID\":578301,\"meshblockI\":2254000,\"easting\":1827151,\"northing\":5463231,\"crashLocat\":\"MASTERTON-CASTLEPOINT ROA\",\"crashLoc_1\":\"MCKINSTRY AVENUE\",\"outdatedLo\":\"Current location\",\"crashRPRS\":0,\"intersecti\":\"Intersection\",\"junctionTy\":\"T Type Junction\",\"cornerRoad\":1,\"crashDirec\":null,\"crashDista\":0,\"crashRPDir\":\"0\",\"directionR\":\"East\",\"crashRPDis\":0,\"crashSHDes\":\"No\",\"crashRPSH\":\"0\",\"crashRPNew\":\"0\",\"intersec_1\":\"Intersection\",\"flatHill\":\"Flat\",\"roadCharac\":\"Unknown\",\"roadCurvat\":\"Straight Road\",\"roadLane\":\"2\",\"roadMarkin\":\"Centre Line\",\"roadSurfac\":\"Sealed\",\"roadWet\":\"Dry\",\"numberOfLa\":2,\"trafficCon\":\"Nil\",\"speedLimit\":\"100\",\"advisory\n",
       "⋮\n",
       "44583456-byte body\n",
       "\"\"\""
      ]
     },
     "execution_count": 5,
     "metadata": {},
     "output_type": "execute_result"
    }
   ],
   "source": [
    "#Using HTTP protocol to fetch the details from URL\n",
    "response = HTTP.get(url)"
   ]
  },
  {
   "cell_type": "code",
   "execution_count": 5,
   "metadata": {},
   "outputs": [
    {
     "data": {
      "text/plain": [
       "Dict{String,Any} with 2 entries:\n",
       "  \"features\" => Any[Dict{String,Any}(\"properties\"=>Dict{String,Any}(\"vanOrUtili…\n",
       "  \"type\"     => \"FeatureCollection\""
      ]
     },
     "execution_count": 5,
     "metadata": {},
     "output_type": "execute_result"
    }
   ],
   "source": [
    "#Parsing the HTTPS response to JSON format\n",
    "crash_data=JSON.parse(String(response.body))"
   ]
  },
  {
   "cell_type": "code",
   "execution_count": 6,
   "metadata": {},
   "outputs": [
    {
     "data": {
      "text/html": [
       "<table class=\"data-frame\"><thead><tr><th></th><th>OBJECTID</th><th>OBJECTID_1</th><th>Pedestrian</th><th>advisorySp</th><th>animals</th><th>areaUnitID</th><th>bicycle</th><th>bridge</th></tr><tr><th></th><th>Int64</th><th>Int64</th><th>Int64</th><th>Int64</th><th>Int64</th><th>Int64</th><th>Int64</th><th>Int64</th></tr></thead><tbody><p>1 rows × 88 columns (omitted printing of 80 columns)</p><tr><th>1</th><td>646826</td><td>1312521</td><td>0</td><td>0</td><td>0</td><td>578301</td><td>0</td><td>0</td></tr></tbody></table>"
      ],
      "text/latex": [
       "\\begin{tabular}{r|ccccccccc}\n",
       "\t& OBJECTID & OBJECTID\\_1 & Pedestrian & advisorySp & animals & areaUnitID & bicycle & bridge & \\\\\n",
       "\t\\hline\n",
       "\t& Int64 & Int64 & Int64 & Int64 & Int64 & Int64 & Int64 & Int64 & \\\\\n",
       "\t\\hline\n",
       "\t1 & 646826 & 1312521 & 0 & 0 & 0 & 578301 & 0 & 0 & $\\dots$ \\\\\n",
       "\\end{tabular}\n"
      ],
      "text/plain": [
       "1×88 DataFrame. Omitted printing of 82 columns\n",
       "│ Row │ OBJECTID │ OBJECTID_1 │ Pedestrian │ advisorySp │ animals │ areaUnitID │\n",
       "│     │ \u001b[90mInt64\u001b[39m    │ \u001b[90mInt64\u001b[39m      │ \u001b[90mInt64\u001b[39m      │ \u001b[90mInt64\u001b[39m      │ \u001b[90mInt64\u001b[39m   │ \u001b[90mInt64\u001b[39m      │\n",
       "├─────┼──────────┼────────────┼────────────┼────────────┼─────────┼────────────┤\n",
       "│ 1   │ 646826   │ 1312521    │ 0          │ 0          │ 0       │ 578301     │"
      ]
     },
     "execution_count": 6,
     "metadata": {},
     "output_type": "execute_result"
    }
   ],
   "source": [
    "global df=DataFrame(crash_data[\"features\"][1][\"properties\"])"
   ]
  },
  {
   "cell_type": "code",
   "execution_count": 7,
   "metadata": {},
   "outputs": [
    {
     "name": "stderr",
     "output_type": "stream",
     "text": [
      "┌ Warning: `deletecols!(df::DataFrame, inds)` is deprecated, use `select!(df, Not(inds))` instead.\n",
      "│   caller = top-level scope at In[7]:1\n",
      "└ @ Core In[7]:1\n"
     ]
    },
    {
     "data": {
      "text/html": [
       "<table class=\"data-frame\"><thead><tr><th></th><th>OBJECTID</th><th>OBJECTID_1</th><th>Pedestrian</th><th>advisorySp</th><th>animals</th><th>areaUnitID</th><th>bicycle</th><th>bridge</th></tr><tr><th></th><th>Int64</th><th>Int64</th><th>Int64</th><th>Int64</th><th>Int64</th><th>Int64</th><th>Int64</th><th>Int64</th></tr></thead><tbody><p>1 rows × 83 columns (omitted printing of 75 columns)</p><tr><th>1</th><td>646826</td><td>1312521</td><td>0</td><td>0</td><td>0</td><td>578301</td><td>0</td><td>0</td></tr></tbody></table>"
      ],
      "text/latex": [
       "\\begin{tabular}{r|ccccccccc}\n",
       "\t& OBJECTID & OBJECTID\\_1 & Pedestrian & advisorySp & animals & areaUnitID & bicycle & bridge & \\\\\n",
       "\t\\hline\n",
       "\t& Int64 & Int64 & Int64 & Int64 & Int64 & Int64 & Int64 & Int64 & \\\\\n",
       "\t\\hline\n",
       "\t1 & 646826 & 1312521 & 0 & 0 & 0 & 578301 & 0 & 0 & $\\dots$ \\\\\n",
       "\\end{tabular}\n"
      ],
      "text/plain": [
       "1×83 DataFrame. Omitted printing of 77 columns\n",
       "│ Row │ OBJECTID │ OBJECTID_1 │ Pedestrian │ advisorySp │ animals │ areaUnitID │\n",
       "│     │ \u001b[90mInt64\u001b[39m    │ \u001b[90mInt64\u001b[39m      │ \u001b[90mInt64\u001b[39m      │ \u001b[90mInt64\u001b[39m      │ \u001b[90mInt64\u001b[39m   │ \u001b[90mInt64\u001b[39m      │\n",
       "├─────┼──────────┼────────────┼────────────┼────────────┼─────────┼────────────┤\n",
       "│ 1   │ 646826   │ 1312521    │ 0          │ 0          │ 0       │ 578301     │"
      ]
     },
     "execution_count": 7,
     "metadata": {},
     "output_type": "execute_result"
    }
   ],
   "source": [
    "# Removing the columns with missing values\n",
    "df = deletecols!(df, [:crashRPDir,:crashRPSH,:crashDirec,:crashRPNew,:roadLane])"
   ]
  },
  {
   "cell_type": "code",
   "execution_count": 8,
   "metadata": {},
   "outputs": [
    {
     "name": "stderr",
     "output_type": "stream",
     "text": [
      "┌ Warning: `deletecols!(df::DataFrame, inds)` is deprecated, use `select!(df, Not(inds))` instead.\n",
      "│   caller = top-level scope at In[8]:6\n",
      "└ @ Core .\\In[8]:6\n"
     ]
    }
   ],
   "source": [
    "#Consolidating multiple dataframe into one dataframe\n",
    "for i = 1:length(crash_data[\"features\"])\n",
    "    ##println(\"--Extracting--Dataset--\")\n",
    "    datadict1 = crash_data[\"features\"][i][\"properties\"]\n",
    "    df1=DataFrame(datadict1)\n",
    "    global df \n",
    "    df1 = deletecols!(df1, [:crashRPDir,:crashRPSH,:crashDirec,:crashRPNew,:roadLane])\n",
    "    df = append!(df1,df) \n",
    "end"
   ]
  },
  {
   "cell_type": "code",
   "execution_count": 9,
   "metadata": {},
   "outputs": [
    {
     "data": {
      "text/plain": [
       "\"CrashAnalysis.csv\""
      ]
     },
     "execution_count": 9,
     "metadata": {},
     "output_type": "execute_result"
    }
   ],
   "source": [
    "CSV.write(\"CrashAnalysis.csv\",df)"
   ]
  },
  {
   "cell_type": "code",
   "execution_count": 1,
   "metadata": {},
   "outputs": [
    {
     "name": "stderr",
     "output_type": "stream",
     "text": [
      "┌ Warning: readtable is deprecated, use CSV.read from the CSV package instead\n",
      "│   caller = top-level scope at In[1]:4\n",
      "└ @ Core In[1]:4\n",
      "┌ Warning: `T` is deprecated, use `nonmissingtype` instead.\n",
      "│   caller = compacttype(::Type, ::Int64) at show.jl:39\n",
      "└ @ DataFrames C:\\Users\\user\\.julia\\packages\\DataFrames\\Iyo5L\\src\\abstractdataframe\\show.jl:39\n"
     ]
    },
    {
     "data": {
      "text/html": [
       "<table class=\"data-frame\"><thead><tr><th></th><th>OBJECTID</th><th>OBJECTID_1</th><th>Pedestrian</th><th>advisorySp</th><th>animals</th><th>areaUnitID</th><th>bicycle</th><th>bridge</th></tr><tr><th></th><th>Int64⍰</th><th>Int64⍰</th><th>Int64⍰</th><th>Int64⍰</th><th>Int64⍰</th><th>Int64⍰</th><th>Int64⍰</th><th>Int64⍰</th></tr></thead><tbody><p>27,649 rows × 83 columns (omitted printing of 75 columns)</p><tr><th>1</th><td>674159</td><td>1339847</td><td>0</td><td>0</td><td>0</td><td>538742</td><td>0</td><td>0</td></tr><tr><th>2</th><td>674158</td><td>1339846</td><td>0</td><td>0</td><td>0</td><td>561300</td><td>0</td><td>0</td></tr><tr><th>3</th><td>674157</td><td>1339845</td><td>0</td><td>0</td><td>0</td><td>510700</td><td>0</td><td>0</td></tr><tr><th>4</th><td>674156</td><td>1339844</td><td>0</td><td>0</td><td>0</td><td>507900</td><td>0</td><td>0</td></tr><tr><th>5</th><td>674155</td><td>1339843</td><td>0</td><td>0</td><td>0</td><td>506615</td><td>0</td><td>0</td></tr><tr><th>6</th><td>674154</td><td>1339842</td><td>0</td><td>0</td><td>0</td><td>506642</td><td>0</td><td>0</td></tr><tr><th>7</th><td>674153</td><td>1339841</td><td>0</td><td>0</td><td>0</td><td>501809</td><td>0</td><td>0</td></tr><tr><th>8</th><td>674152</td><td>1339840</td><td>0</td><td>0</td><td>0</td><td>506614</td><td>0</td><td>0</td></tr><tr><th>9</th><td>674151</td><td>1339839</td><td>0</td><td>0</td><td>0</td><td>514103</td><td>0</td><td>0</td></tr><tr><th>10</th><td>674150</td><td>1339838</td><td>0</td><td>0</td><td>0</td><td>506200</td><td>0</td><td>0</td></tr><tr><th>11</th><td>674149</td><td>1339837</td><td>0</td><td>0</td><td>0</td><td>514801</td><td>0</td><td>0</td></tr><tr><th>12</th><td>674148</td><td>1339836</td><td>0</td><td>0</td><td>0</td><td>617901</td><td>0</td><td>0</td></tr><tr><th>13</th><td>674147</td><td>1339835</td><td>0</td><td>0</td><td>0</td><td>572100</td><td>0</td><td>0</td></tr><tr><th>14</th><td>674146</td><td>1339834</td><td>0</td><td>0</td><td>0</td><td>520500</td><td>0</td><td>0</td></tr><tr><th>15</th><td>674145</td><td>1339833</td><td>0</td><td>0</td><td>0</td><td>521901</td><td>0</td><td>0</td></tr><tr><th>16</th><td>674144</td><td>1339832</td><td>0</td><td>0</td><td>0</td><td>509702</td><td>0</td><td>0</td></tr><tr><th>17</th><td>674143</td><td>1339831</td><td>0</td><td>0</td><td>0</td><td>604222</td><td>0</td><td>0</td></tr><tr><th>18</th><td>674142</td><td>1339830</td><td>0</td><td>0</td><td>0</td><td>528800</td><td>0</td><td>0</td></tr><tr><th>19</th><td>674141</td><td>1339829</td><td>0</td><td>0</td><td>0</td><td>521901</td><td>0</td><td>0</td></tr><tr><th>20</th><td>674140</td><td>1339828</td><td>0</td><td>0</td><td>0</td><td>610230</td><td>0</td><td>0</td></tr><tr><th>21</th><td>674139</td><td>1339827</td><td>0</td><td>0</td><td>0</td><td>524822</td><td>0</td><td>0</td></tr><tr><th>22</th><td>674138</td><td>1339826</td><td>0</td><td>0</td><td>0</td><td>520300</td><td>0</td><td>0</td></tr><tr><th>23</th><td>674137</td><td>1339825</td><td>0</td><td>0</td><td>0</td><td>603720</td><td>0</td><td>0</td></tr><tr><th>24</th><td>674136</td><td>1339824</td><td>0</td><td>0</td><td>0</td><td>604210</td><td>0</td><td>0</td></tr><tr><th>25</th><td>674135</td><td>1339823</td><td>0</td><td>0</td><td>0</td><td>609023</td><td>0</td><td>0</td></tr><tr><th>26</th><td>674134</td><td>1339822</td><td>0</td><td>0</td><td>0</td><td>601030</td><td>0</td><td>0</td></tr><tr><th>27</th><td>674133</td><td>1339821</td><td>0</td><td>0</td><td>0</td><td>552200</td><td>0</td><td>0</td></tr><tr><th>28</th><td>674132</td><td>1339820</td><td>0</td><td>0</td><td>0</td><td>507900</td><td>0</td><td>0</td></tr><tr><th>29</th><td>674131</td><td>1339819</td><td>0</td><td>0</td><td>0</td><td>550101</td><td>0</td><td>0</td></tr><tr><th>30</th><td>674130</td><td>1339818</td><td>0</td><td>0</td><td>0</td><td>573101</td><td>0</td><td>0</td></tr><tr><th>&vellip;</th><td>&vellip;</td><td>&vellip;</td><td>&vellip;</td><td>&vellip;</td><td>&vellip;</td><td>&vellip;</td><td>&vellip;</td><td>&vellip;</td></tr></tbody></table>"
      ],
      "text/latex": [
       "\\begin{tabular}{r|ccccccccc}\n",
       "\t& OBJECTID & OBJECTID\\_1 & Pedestrian & advisorySp & animals & areaUnitID & bicycle & bridge & \\\\\n",
       "\t\\hline\n",
       "\t& Int64⍰ & Int64⍰ & Int64⍰ & Int64⍰ & Int64⍰ & Int64⍰ & Int64⍰ & Int64⍰ & \\\\\n",
       "\t\\hline\n",
       "\t1 & 674159 & 1339847 & 0 & 0 & 0 & 538742 & 0 & 0 & $\\dots$ \\\\\n",
       "\t2 & 674158 & 1339846 & 0 & 0 & 0 & 561300 & 0 & 0 & $\\dots$ \\\\\n",
       "\t3 & 674157 & 1339845 & 0 & 0 & 0 & 510700 & 0 & 0 & $\\dots$ \\\\\n",
       "\t4 & 674156 & 1339844 & 0 & 0 & 0 & 507900 & 0 & 0 & $\\dots$ \\\\\n",
       "\t5 & 674155 & 1339843 & 0 & 0 & 0 & 506615 & 0 & 0 & $\\dots$ \\\\\n",
       "\t6 & 674154 & 1339842 & 0 & 0 & 0 & 506642 & 0 & 0 & $\\dots$ \\\\\n",
       "\t7 & 674153 & 1339841 & 0 & 0 & 0 & 501809 & 0 & 0 & $\\dots$ \\\\\n",
       "\t8 & 674152 & 1339840 & 0 & 0 & 0 & 506614 & 0 & 0 & $\\dots$ \\\\\n",
       "\t9 & 674151 & 1339839 & 0 & 0 & 0 & 514103 & 0 & 0 & $\\dots$ \\\\\n",
       "\t10 & 674150 & 1339838 & 0 & 0 & 0 & 506200 & 0 & 0 & $\\dots$ \\\\\n",
       "\t11 & 674149 & 1339837 & 0 & 0 & 0 & 514801 & 0 & 0 & $\\dots$ \\\\\n",
       "\t12 & 674148 & 1339836 & 0 & 0 & 0 & 617901 & 0 & 0 & $\\dots$ \\\\\n",
       "\t13 & 674147 & 1339835 & 0 & 0 & 0 & 572100 & 0 & 0 & $\\dots$ \\\\\n",
       "\t14 & 674146 & 1339834 & 0 & 0 & 0 & 520500 & 0 & 0 & $\\dots$ \\\\\n",
       "\t15 & 674145 & 1339833 & 0 & 0 & 0 & 521901 & 0 & 0 & $\\dots$ \\\\\n",
       "\t16 & 674144 & 1339832 & 0 & 0 & 0 & 509702 & 0 & 0 & $\\dots$ \\\\\n",
       "\t17 & 674143 & 1339831 & 0 & 0 & 0 & 604222 & 0 & 0 & $\\dots$ \\\\\n",
       "\t18 & 674142 & 1339830 & 0 & 0 & 0 & 528800 & 0 & 0 & $\\dots$ \\\\\n",
       "\t19 & 674141 & 1339829 & 0 & 0 & 0 & 521901 & 0 & 0 & $\\dots$ \\\\\n",
       "\t20 & 674140 & 1339828 & 0 & 0 & 0 & 610230 & 0 & 0 & $\\dots$ \\\\\n",
       "\t21 & 674139 & 1339827 & 0 & 0 & 0 & 524822 & 0 & 0 & $\\dots$ \\\\\n",
       "\t22 & 674138 & 1339826 & 0 & 0 & 0 & 520300 & 0 & 0 & $\\dots$ \\\\\n",
       "\t23 & 674137 & 1339825 & 0 & 0 & 0 & 603720 & 0 & 0 & $\\dots$ \\\\\n",
       "\t24 & 674136 & 1339824 & 0 & 0 & 0 & 604210 & 0 & 0 & $\\dots$ \\\\\n",
       "\t25 & 674135 & 1339823 & 0 & 0 & 0 & 609023 & 0 & 0 & $\\dots$ \\\\\n",
       "\t26 & 674134 & 1339822 & 0 & 0 & 0 & 601030 & 0 & 0 & $\\dots$ \\\\\n",
       "\t27 & 674133 & 1339821 & 0 & 0 & 0 & 552200 & 0 & 0 & $\\dots$ \\\\\n",
       "\t28 & 674132 & 1339820 & 0 & 0 & 0 & 507900 & 0 & 0 & $\\dots$ \\\\\n",
       "\t29 & 674131 & 1339819 & 0 & 0 & 0 & 550101 & 0 & 0 & $\\dots$ \\\\\n",
       "\t30 & 674130 & 1339818 & 0 & 0 & 0 & 573101 & 0 & 0 & $\\dots$ \\\\\n",
       "\t$\\dots$ & $\\dots$ & $\\dots$ & $\\dots$ & $\\dots$ & $\\dots$ & $\\dots$ & $\\dots$ & $\\dots$ &  \\\\\n",
       "\\end{tabular}\n"
      ],
      "text/plain": [
       "27649×83 DataFrame. Omitted printing of 78 columns\n",
       "│ Row   │ OBJECTID │ OBJECTID_1 │ Pedestrian │ advisorySp │ animals │\n",
       "│       │ \u001b[90mInt64⍰\u001b[39m   │ \u001b[90mInt64⍰\u001b[39m     │ \u001b[90mInt64⍰\u001b[39m     │ \u001b[90mInt64⍰\u001b[39m     │ \u001b[90mInt64⍰\u001b[39m  │\n",
       "├───────┼──────────┼────────────┼────────────┼────────────┼─────────┤\n",
       "│ 1     │ 674159   │ 1339847    │ 0          │ 0          │ 0       │\n",
       "│ 2     │ 674158   │ 1339846    │ 0          │ 0          │ 0       │\n",
       "│ 3     │ 674157   │ 1339845    │ 0          │ 0          │ 0       │\n",
       "│ 4     │ 674156   │ 1339844    │ 0          │ 0          │ 0       │\n",
       "│ 5     │ 674155   │ 1339843    │ 0          │ 0          │ 0       │\n",
       "│ 6     │ 674154   │ 1339842    │ 0          │ 0          │ 0       │\n",
       "│ 7     │ 674153   │ 1339841    │ 0          │ 0          │ 0       │\n",
       "│ 8     │ 674152   │ 1339840    │ 0          │ 0          │ 0       │\n",
       "│ 9     │ 674151   │ 1339839    │ 0          │ 0          │ 0       │\n",
       "│ 10    │ 674150   │ 1339838    │ 0          │ 0          │ 0       │\n",
       "⋮\n",
       "│ 27639 │ 646835   │ 1312530    │ 0          │ 75         │ 0       │\n",
       "│ 27640 │ 646834   │ 1312529    │ 0          │ 0          │ 0       │\n",
       "│ 27641 │ 646833   │ 1312528    │ 0          │ 0          │ 0       │\n",
       "│ 27642 │ 646832   │ 1312527    │ 0          │ 35         │ 0       │\n",
       "│ 27643 │ 646831   │ 1312526    │ 0          │ 35         │ 0       │\n",
       "│ 27644 │ 646830   │ 1312525    │ 0          │ 0          │ 0       │\n",
       "│ 27645 │ 646829   │ 1312524    │ 0          │ 0          │ 0       │\n",
       "│ 27646 │ 646828   │ 1312523    │ 0          │ 0          │ 0       │\n",
       "│ 27647 │ 646827   │ 1312522    │ 0          │ 0          │ 0       │\n",
       "│ 27648 │ 646826   │ 1312521    │ 0          │ 0          │ 0       │\n",
       "│ 27649 │ 646826   │ 1312521    │ 0          │ 0          │ 0       │"
      ]
     },
     "execution_count": 1,
     "metadata": {},
     "output_type": "execute_result"
    },
    {
     "name": "stderr",
     "output_type": "stream",
     "text": [
      "┌ Warning: `T` is deprecated, use `nonmissingtype` instead.\n",
      "│   caller = compacttype(::Union, ::Int64) at show.jl:39\n",
      "└ @ DataFrames C:\\Users\\user\\.julia\\packages\\DataFrames\\Iyo5L\\src\\abstractdataframe\\show.jl:39\n"
     ]
    }
   ],
   "source": [
    "#  Reading crash analysis file just created above into the new dataframe for further\n",
    "# analysis\n",
    "using DataFrames \n",
    "\n",
    "CrashAnalysis_df = readtable(\"CrashAnalysis.csv\")"
   ]
  },
  {
   "cell_type": "code",
   "execution_count": 2,
   "metadata": {},
   "outputs": [
    {
     "data": {
      "text/plain": [
       "83-element Array{Symbol,1}:\n",
       " :OBJECTID  \n",
       " :OBJECTID_1\n",
       " :Pedestrian\n",
       " :advisorySp\n",
       " :animals   \n",
       " :areaUnitID\n",
       " :bicycle   \n",
       " :bridge    \n",
       " :bus       \n",
       " :carStation\n",
       " :cliffBank \n",
       " :cornerRoad\n",
       " :crashDista\n",
       " ⋮          \n",
       " :trafficIsl\n",
       " :trafficSig\n",
       " :train     \n",
       " :tree      \n",
       " :truck     \n",
       " :unknownVeh\n",
       " :urban     \n",
       " :vanOrUtili\n",
       " :vehicle   \n",
       " :waterRiver\n",
       " :weatherA  \n",
       " :weatherB  "
      ]
     },
     "execution_count": 2,
     "metadata": {},
     "output_type": "execute_result"
    }
   ],
   "source": [
    "# displaying the column names in the dataset\n",
    "names(CrashAnalysis_df)"
   ]
  },
  {
   "cell_type": "code",
   "execution_count": 3,
   "metadata": {},
   "outputs": [
    {
     "name": "stderr",
     "output_type": "stream",
     "text": [
      "┌ Warning: `getindex(df::DataFrame, col_ind::ColumnIndex)` is deprecated, use `df[!, col_ind]` instead.\n",
      "│   caller = top-level scope at In[3]:1\n",
      "└ @ Core In[3]:1\n"
     ]
    },
    {
     "data": {
      "text/plain": [
       "27649-element Array{Union{Missing, String},1}:\n",
       " \"Straight Road\" \n",
       " \"Straight Road\" \n",
       " \"Straight Road\" \n",
       " \"Moderate Curve\"\n",
       " \"Moderate Curve\"\n",
       " \"Straight Road\" \n",
       " \"Straight Road\" \n",
       " \"Moderate Curve\"\n",
       " \"Straight Road\" \n",
       " \"Moderate Curve\"\n",
       " \"Straight Road\" \n",
       " \"Straight Road\" \n",
       " \"Moderate Curve\"\n",
       " ⋮               \n",
       " \"Moderate Curve\"\n",
       " \"Moderate Curve\"\n",
       " \"Straight Road\" \n",
       " \"Straight Road\" \n",
       " \"Moderate Curve\"\n",
       " \"Moderate Curve\"\n",
       " \"Straight Road\" \n",
       " \"Moderate Curve\"\n",
       " \"Straight Road\" \n",
       " \"Straight Road\" \n",
       " \"Straight Road\" \n",
       " \"Straight Road\" "
      ]
     },
     "execution_count": 3,
     "metadata": {},
     "output_type": "execute_result"
    }
   ],
   "source": [
    "CrashAnalysis_df[:roadCurvat]"
   ]
  },
  {
   "cell_type": "code",
   "execution_count": 2,
   "metadata": {},
   "outputs": [
    {
     "data": {
      "text/html": [
       "<table class=\"data-frame\"><thead><tr><th></th><th>roadCurvat</th><th>count</th></tr><tr><th></th><th>String⍰</th><th>Int64</th></tr></thead><tbody><p>5 rows × 2 columns</p><tr><th>1</th><td>Straight Road</td><td>19981</td></tr><tr><th>2</th><td>Moderate Curve</td><td>6958</td></tr><tr><th>3</th><td>Severe Curve</td><td>50</td></tr><tr><th>4</th><td>Easy Curve</td><td>659</td></tr><tr><th>5</th><td>Unknown</td><td>1</td></tr></tbody></table>"
      ],
      "text/latex": [
       "\\begin{tabular}{r|cc}\n",
       "\t& roadCurvat & count\\\\\n",
       "\t\\hline\n",
       "\t& String⍰ & Int64\\\\\n",
       "\t\\hline\n",
       "\t1 & Straight Road & 19981 \\\\\n",
       "\t2 & Moderate Curve & 6958 \\\\\n",
       "\t3 & Severe Curve & 50 \\\\\n",
       "\t4 & Easy Curve & 659 \\\\\n",
       "\t5 & Unknown & 1 \\\\\n",
       "\\end{tabular}\n"
      ],
      "text/plain": [
       "5×2 DataFrame\n",
       "│ Row │ roadCurvat     │ count │\n",
       "│     │ \u001b[90mString⍰\u001b[39m        │ \u001b[90mInt64\u001b[39m │\n",
       "├─────┼────────────────┼───────┤\n",
       "│ 1   │ Straight Road  │ 19981 │\n",
       "│ 2   │ Moderate Curve │ 6958  │\n",
       "│ 3   │ Severe Curve   │ 50    │\n",
       "│ 4   │ Easy Curve     │ 659   │\n",
       "│ 5   │ Unknown        │ 1     │"
      ]
     },
     "execution_count": 2,
     "metadata": {},
     "output_type": "execute_result"
    }
   ],
   "source": [
    "# Calculating number of road fatalities for each road curvature\n",
    "RoadCurvVsRoadAcc_df=by(CrashAnalysis_df,:roadCurvat, d -> DataFrame(count=nrow(d)))"
   ]
  },
  {
   "cell_type": "code",
   "execution_count": 3,
   "metadata": {},
   "outputs": [
    {
     "data": {
      "text/html": [
       "<table class=\"data-frame\"><thead><tr><th></th><th>roadCurvat</th><th>count</th></tr><tr><th></th><th>String⍰</th><th>Int64</th></tr></thead><tbody><p>4 rows × 2 columns</p><tr><th>1</th><td>Straight Road</td><td>19981</td></tr><tr><th>2</th><td>Moderate Curve</td><td>6958</td></tr><tr><th>3</th><td>Severe Curve</td><td>50</td></tr><tr><th>4</th><td>Easy Curve</td><td>659</td></tr></tbody></table>"
      ],
      "text/latex": [
       "\\begin{tabular}{r|cc}\n",
       "\t& roadCurvat & count\\\\\n",
       "\t\\hline\n",
       "\t& String⍰ & Int64\\\\\n",
       "\t\\hline\n",
       "\t1 & Straight Road & 19981 \\\\\n",
       "\t2 & Moderate Curve & 6958 \\\\\n",
       "\t3 & Severe Curve & 50 \\\\\n",
       "\t4 & Easy Curve & 659 \\\\\n",
       "\\end{tabular}\n"
      ],
      "text/plain": [
       "4×2 DataFrame\n",
       "│ Row │ roadCurvat     │ count │\n",
       "│     │ \u001b[90mString⍰\u001b[39m        │ \u001b[90mInt64\u001b[39m │\n",
       "├─────┼────────────────┼───────┤\n",
       "│ 1   │ Straight Road  │ 19981 │\n",
       "│ 2   │ Moderate Curve │ 6958  │\n",
       "│ 3   │ Severe Curve   │ 50    │\n",
       "│ 4   │ Easy Curve     │ 659   │"
      ]
     },
     "execution_count": 3,
     "metadata": {},
     "output_type": "execute_result"
    }
   ],
   "source": [
    "RoadCurvVsRoadAcc_df = RoadCurvVsRoadAcc_df[setdiff(1:end, 5), :]\n",
    "RoadCurvVsRoadAcc_df"
   ]
  },
  {
   "cell_type": "code",
   "execution_count": 4,
   "metadata": {},
   "outputs": [
    {
     "data": {
      "image/png": "[encoded data removed]",
      "text/plain": [
       "Figure(PyObject <Figure size 1000x1000 with 1 Axes>)"
      ]
     },
     "metadata": {},
     "output_type": "display_data"
    },
    {
     "name": "stderr",
     "output_type": "stream",
     "text": [
      "┌ Warning: `getindex(df::DataFrame, col_ind::ColumnIndex)` is deprecated, use `df[!, col_ind]` instead.\n",
      "│   caller = top-level scope at In[4]:3\n",
      "└ @ Core In[4]:3\n",
      "┌ Warning: `getindex(df::DataFrame, col_ind::ColumnIndex)` is deprecated, use `df[!, col_ind]` instead.\n",
      "│   caller = top-level scope at In[4]:5\n",
      "└ @ Core In[4]:5\n"
     ]
    },
    {
     "data": {
      "text/plain": [
       "PyObject Text(24.000000000000014, 0.5, 'Number of Accidents')"
      ]
     },
     "execution_count": 4,
     "metadata": {},
     "output_type": "execute_result"
    }
   ],
   "source": [
    "# Bar Plot for number of road fatalities in each road curvature \n",
    "using PyPlot\n",
    "\n",
    "x=RoadCurvVsRoadAcc_df[:roadCurvat]\n",
    "y=RoadCurvVsRoadAcc_df[:count]\n",
    "\n",
    "fig = figure(\"pyplot_barplot\",figsize=(10,10))\n",
    "subplot(211)\n",
    "b = bar(x,y,color=\"#0f87bf\",align=\"center\",alpha=0.4)\n",
    "axis(\"tight\")\n",
    "PyPlot.title(\"Road Curvature Vs Road Accidents\")\n",
    "grid(\"on\")\n",
    "xlabel(\"Road Curvature\")\n",
    "ylabel(\"Number of Accidents\")"
   ]
  },
  {
   "cell_type": "code",
   "execution_count": 8,
   "metadata": {},
   "outputs": [
    {
     "name": "stderr",
     "output_type": "stream",
     "text": [
      "┌ Warning: `getindex(df::DataFrame, col_ind::ColumnIndex)` is deprecated, use `df[!, col_ind]` instead.\n",
      "│   caller = (::getfield(Main, Symbol(\"##7#8\")))(::SubDataFrame{DataFrame,DataFrames.Index,Array{Int64,1}}) at In[8]:2\n",
      "└ @ Main .\\In[8]:2\n"
     ]
    },
    {
     "data": {
      "text/html": [
       "<table class=\"data-frame\"><thead><tr><th></th><th>roadCurvat</th><th>avgSpeedLimit</th></tr><tr><th></th><th>String⍰</th><th>Float64</th></tr></thead><tbody><p>5 rows × 2 columns</p><tr><th>1</th><td>Straight Road</td><td>67.537</td></tr><tr><th>2</th><td>Moderate Curve</td><td>67.537</td></tr><tr><th>3</th><td>Severe Curve</td><td>67.537</td></tr><tr><th>4</th><td>Easy Curve</td><td>67.537</td></tr><tr><th>5</th><td>Unknown</td><td>67.537</td></tr></tbody></table>"
      ],
      "text/latex": [
       "\\begin{tabular}{r|cc}\n",
       "\t& roadCurvat & avgSpeedLimit\\\\\n",
       "\t\\hline\n",
       "\t& String⍰ & Float64\\\\\n",
       "\t\\hline\n",
       "\t1 & Straight Road & 67.537 \\\\\n",
       "\t2 & Moderate Curve & 67.537 \\\\\n",
       "\t3 & Severe Curve & 67.537 \\\\\n",
       "\t4 & Easy Curve & 67.537 \\\\\n",
       "\t5 & Unknown & 67.537 \\\\\n",
       "\\end{tabular}\n"
      ],
      "text/plain": [
       "5×2 DataFrame\n",
       "│ Row │ roadCurvat     │ avgSpeedLimit │\n",
       "│     │ \u001b[90mString⍰\u001b[39m        │ \u001b[90mFloat64\u001b[39m       │\n",
       "├─────┼────────────────┼───────────────┤\n",
       "│ 1   │ Straight Road  │ 67.537        │\n",
       "│ 2   │ Moderate Curve │ 67.537        │\n",
       "│ 3   │ Severe Curve   │ 67.537        │\n",
       "│ 4   │ Easy Curve     │ 67.537        │\n",
       "│ 5   │ Unknown        │ 67.537        │"
      ]
     },
     "execution_count": 8,
     "metadata": {},
     "output_type": "execute_result"
    },
    {
     "name": "stderr",
     "output_type": "stream",
     "text": [
      "┌ Warning: `T` is deprecated, use `nonmissingtype` instead.\n",
      "│   caller = compacttype(::Type, ::Int64) at show.jl:39\n",
      "└ @ DataFrames C:\\Users\\user\\.julia\\packages\\DataFrames\\Iyo5L\\src\\abstractdataframe\\show.jl:39\n"
     ]
    }
   ],
   "source": [
    "using Statistics\n",
    "RoadCurvVsRoadAcc_df=by(CrashAnalysis_df,:roadCurvat, d -> DataFrame(avgSpeedLimit=mean(CrashAnalysis_df[:speedLimit])))"
   ]
  },
  {
   "cell_type": "code",
   "execution_count": 7,
   "metadata": {},
   "outputs": [
    {
     "data": {
      "text/html": [
       "<table class=\"data-frame\"><thead><tr><th></th><th>roadWet</th><th>count</th></tr><tr><th></th><th>String⍰</th><th>Int64</th></tr></thead><tbody><p>4 rows × 2 columns</p><tr><th>1</th><td>Dry</td><td>14915</td></tr><tr><th>2</th><td>Wet</td><td>4882</td></tr><tr><th>3</th><td>Ice/ Snow</td><td>107</td></tr><tr><th>4</th><td>Unknown</td><td>77</td></tr></tbody></table>"
      ],
      "text/latex": [
       "\\begin{tabular}{r|cc}\n",
       "\t& roadWet & count\\\\\n",
       "\t\\hline\n",
       "\t& String⍰ & Int64\\\\\n",
       "\t\\hline\n",
       "\t1 & Dry & 14915 \\\\\n",
       "\t2 & Wet & 4882 \\\\\n",
       "\t3 & Ice/ Snow & 107 \\\\\n",
       "\t4 & Unknown & 77 \\\\\n",
       "\\end{tabular}\n"
      ],
      "text/plain": [
       "4×2 DataFrame\n",
       "│ Row │ roadWet   │ count │\n",
       "│     │ \u001b[90mString⍰\u001b[39m   │ \u001b[90mInt64\u001b[39m │\n",
       "├─────┼───────────┼───────┤\n",
       "│ 1   │ Dry       │ 14915 │\n",
       "│ 2   │ Wet       │ 4882  │\n",
       "│ 3   │ Ice/ Snow │ 107   │\n",
       "│ 4   │ Unknown   │ 77    │"
      ]
     },
     "execution_count": 7,
     "metadata": {},
     "output_type": "execute_result"
    }
   ],
   "source": [
    " # Road condtion for Straight Road\n",
    " using DataFramesMeta\n",
    "CrashAnalysis_StraightRd= @where(CrashAnalysis_df, :roadCurvat .== \"Straight Road\")\n",
    "\n",
    "CrashAnalysis_StraightRd=by(CrashAnalysis_StraightRd,:roadWet, d -> DataFrame(count=nrow(d)))"
   ]
  },
  {
   "cell_type": "code",
   "execution_count": 8,
   "metadata": {},
   "outputs": [
    {
     "data": {
      "text/html": [
       "<table class=\"data-frame\"><thead><tr><th></th><th>roadWet</th><th>count</th></tr><tr><th></th><th>String⍰</th><th>Int64</th></tr></thead><tbody><p>4 rows × 2 columns</p><tr><th>1</th><td>Dry</td><td>3968</td></tr><tr><th>2</th><td>Wet</td><td>2822</td></tr><tr><th>3</th><td>Ice/ Snow</td><td>161</td></tr><tr><th>4</th><td>Unknown</td><td>7</td></tr></tbody></table>"
      ],
      "text/latex": [
       "\\begin{tabular}{r|cc}\n",
       "\t& roadWet & count\\\\\n",
       "\t\\hline\n",
       "\t& String⍰ & Int64\\\\\n",
       "\t\\hline\n",
       "\t1 & Dry & 3968 \\\\\n",
       "\t2 & Wet & 2822 \\\\\n",
       "\t3 & Ice/ Snow & 161 \\\\\n",
       "\t4 & Unknown & 7 \\\\\n",
       "\\end{tabular}\n"
      ],
      "text/plain": [
       "4×2 DataFrame\n",
       "│ Row │ roadWet   │ count │\n",
       "│     │ \u001b[90mString⍰\u001b[39m   │ \u001b[90mInt64\u001b[39m │\n",
       "├─────┼───────────┼───────┤\n",
       "│ 1   │ Dry       │ 3968  │\n",
       "│ 2   │ Wet       │ 2822  │\n",
       "│ 3   │ Ice/ Snow │ 161   │\n",
       "│ 4   │ Unknown   │ 7     │"
      ]
     },
     "execution_count": 8,
     "metadata": {},
     "output_type": "execute_result"
    }
   ],
   "source": [
    "  # Road condtion for road Moderate Curve Road\n",
    " using DataFramesMeta\n",
    "CrashAnalysis_ModCurve= @where(CrashAnalysis_df, :roadCurvat .== \"Moderate Curve\")\n",
    "\n",
    "CrashAnalysis_ModCurve=by(CrashAnalysis_ModCurve,:roadWet, d -> DataFrame(count=nrow(d)))"
   ]
  },
  {
   "cell_type": "code",
   "execution_count": 9,
   "metadata": {},
   "outputs": [
    {
     "data": {
      "text/html": [
       "<table class=\"data-frame\"><thead><tr><th></th><th>roadWet</th><th>count</th></tr><tr><th></th><th>String⍰</th><th>Int64</th></tr></thead><tbody><p>2 rows × 2 columns</p><tr><th>1</th><td>Wet</td><td>18</td></tr><tr><th>2</th><td>Dry</td><td>32</td></tr></tbody></table>"
      ],
      "text/latex": [
       "\\begin{tabular}{r|cc}\n",
       "\t& roadWet & count\\\\\n",
       "\t\\hline\n",
       "\t& String⍰ & Int64\\\\\n",
       "\t\\hline\n",
       "\t1 & Wet & 18 \\\\\n",
       "\t2 & Dry & 32 \\\\\n",
       "\\end{tabular}\n"
      ],
      "text/plain": [
       "2×2 DataFrame\n",
       "│ Row │ roadWet │ count │\n",
       "│     │ \u001b[90mString⍰\u001b[39m │ \u001b[90mInt64\u001b[39m │\n",
       "├─────┼─────────┼───────┤\n",
       "│ 1   │ Wet     │ 18    │\n",
       "│ 2   │ Dry     │ 32    │"
      ]
     },
     "execution_count": 9,
     "metadata": {},
     "output_type": "execute_result"
    }
   ],
   "source": [
    "# Road condtion for Severe Curve Road\n",
    "using DataFramesMeta\n",
    "CrashAnalysis_SevereCurve= @where(CrashAnalysis_df, :roadCurvat .== \"Severe Curve\")\n",
    "\n",
    "CrashAnalysis_SevereCurve=by(CrashAnalysis_SevereCurve,:roadWet, d -> DataFrame(count=nrow(d)))"
   ]
  },
  {
   "cell_type": "code",
   "execution_count": 3,
   "metadata": {},
   "outputs": [
    {
     "data": {
      "text/html": [
       "<table class=\"data-frame\"><thead><tr><th></th><th>roadWet</th><th>count</th></tr><tr><th></th><th>String⍰</th><th>Int64</th></tr></thead><tbody><p>4 rows × 2 columns</p><tr><th>1</th><td>Dry</td><td>466</td></tr><tr><th>2</th><td>Wet</td><td>175</td></tr><tr><th>3</th><td>Unknown</td><td>13</td></tr><tr><th>4</th><td>Ice/ Snow</td><td>5</td></tr></tbody></table>"
      ],
      "text/latex": [
       "\\begin{tabular}{r|cc}\n",
       "\t& roadWet & count\\\\\n",
       "\t\\hline\n",
       "\t& String⍰ & Int64\\\\\n",
       "\t\\hline\n",
       "\t1 & Dry & 466 \\\\\n",
       "\t2 & Wet & 175 \\\\\n",
       "\t3 & Unknown & 13 \\\\\n",
       "\t4 & Ice/ Snow & 5 \\\\\n",
       "\\end{tabular}\n"
      ],
      "text/plain": [
       "4×2 DataFrame\n",
       "│ Row │ roadWet   │ count │\n",
       "│     │ \u001b[90mString⍰\u001b[39m   │ \u001b[90mInt64\u001b[39m │\n",
       "├─────┼───────────┼───────┤\n",
       "│ 1   │ Dry       │ 466   │\n",
       "│ 2   │ Wet       │ 175   │\n",
       "│ 3   │ Unknown   │ 13    │\n",
       "│ 4   │ Ice/ Snow │ 5     │"
      ]
     },
     "execution_count": 3,
     "metadata": {},
     "output_type": "execute_result"
    }
   ],
   "source": [
    " # Road condtion for Easy Curve Road\n",
    " using DataFramesMeta\n",
    "CrashAnalysis_EasyCurve= @where(CrashAnalysis_df, :roadCurvat .== \"Easy Curve\")\n",
    "\n",
    "CrashAnalysis_EasyCurve=by(CrashAnalysis_EasyCurve,:roadWet, d -> DataFrame(count=nrow(d)))"
   ]
  },
  {
   "cell_type": "code",
   "execution_count": 3,
   "metadata": {},
   "outputs": [
    {
     "data": {
      "text/html": [
       "<table class=\"data-frame\"><thead><tr><th></th><th>light</th><th>count</th></tr><tr><th></th><th>String⍰</th><th>Int64</th></tr></thead><tbody><p>5 rows × 2 columns</p><tr><th>1</th><td>Dark</td><td>5964</td></tr><tr><th>2</th><td>Bright Sun</td><td>6945</td></tr><tr><th>3</th><td>Overcast</td><td>6010</td></tr><tr><th>4</th><td>Twilight</td><td>1049</td></tr><tr><th>5</th><td>Unknown</td><td>13</td></tr></tbody></table>"
      ],
      "text/latex": [
       "\\begin{tabular}{r|cc}\n",
       "\t& light & count\\\\\n",
       "\t\\hline\n",
       "\t& String⍰ & Int64\\\\\n",
       "\t\\hline\n",
       "\t1 & Dark & 5964 \\\\\n",
       "\t2 & Bright Sun & 6945 \\\\\n",
       "\t3 & Overcast & 6010 \\\\\n",
       "\t4 & Twilight & 1049 \\\\\n",
       "\t5 & Unknown & 13 \\\\\n",
       "\\end{tabular}\n"
      ],
      "text/plain": [
       "5×2 DataFrame\n",
       "│ Row │ light      │ count │\n",
       "│     │ \u001b[90mString⍰\u001b[39m    │ \u001b[90mInt64\u001b[39m │\n",
       "├─────┼────────────┼───────┤\n",
       "│ 1   │ Dark       │ 5964  │\n",
       "│ 2   │ Bright Sun │ 6945  │\n",
       "│ 3   │ Overcast   │ 6010  │\n",
       "│ 4   │ Twilight   │ 1049  │\n",
       "│ 5   │ Unknown    │ 13    │"
      ]
     },
     "execution_count": 3,
     "metadata": {},
     "output_type": "execute_result"
    },
    {
     "name": "stderr",
     "output_type": "stream",
     "text": [
      "┌ Warning: `T` is deprecated, use `nonmissingtype` instead.\n",
      "│   caller = compacttype(::Type, ::Int64) at show.jl:39\n",
      "└ @ DataFrames C:\\Users\\user\\.julia\\packages\\DataFrames\\Iyo5L\\src\\abstractdataframe\\show.jl:39\n"
     ]
    }
   ],
   "source": [
    "# Light condtion for  Straight Road\n",
    "using DataFramesMeta\n",
    "CrashAnalysis_StraightRd= @where(CrashAnalysis_df, :roadCurvat .== \"Straight Road\")\n",
    "\n",
    "CrashAnalysis_StraightRd=by(CrashAnalysis_StraightRd,:light, d -> DataFrame(count=nrow(d)))"
   ]
  },
  {
   "cell_type": "code",
   "execution_count": 6,
   "metadata": {},
   "outputs": [
    {
     "data": {
      "image/png": "[encoded data removed]",
      "text/plain": [
       "Figure(PyObject <Figure size 1000x1000 with 1 Axes>)"
      ]
     },
     "metadata": {},
     "output_type": "display_data"
    },
    {
     "name": "stderr",
     "output_type": "stream",
     "text": [
      "┌ Warning: `getindex(df::DataFrame, col_ind::ColumnIndex)` is deprecated, use `df[!, col_ind]` instead.\n",
      "│   caller = top-level scope at In[6]:4\n",
      "└ @ Core In[6]:4\n",
      "┌ Warning: `getindex(df::DataFrame, col_ind::ColumnIndex)` is deprecated, use `df[!, col_ind]` instead.\n",
      "│   caller = top-level scope at In[6]:5\n",
      "└ @ Core In[6]:5\n"
     ]
    },
    {
     "data": {
      "text/plain": [
       "PyObject Text(24.0, 0.5, 'Number of Accidents')"
      ]
     },
     "execution_count": 6,
     "metadata": {},
     "output_type": "execute_result"
    }
   ],
   "source": [
    "# Bar Plot for number of road fatalities in different light condition \n",
    "using PyPlot\n",
    "CrashAnalysis_StraightRd = CrashAnalysis_StraightRd[setdiff(1:end, 5), :]\n",
    "x=CrashAnalysis_StraightRd[:light]\n",
    "y=CrashAnalysis_StraightRd[:count]\n",
    "\n",
    "fig = figure(\"pyplot_barplot\",figsize=(10,10))\n",
    "subplot(211)\n",
    "b = bar(x,y,color=\"#0f87bf\",align=\"center\",alpha=0.4)\n",
    "axis(\"tight\")\n",
    "PyPlot.title(\"Light Condition on Straight Road Vs Road Accidents\")\n",
    "grid(\"on\")\n",
    "xlabel(\"Light Condition in Straight Road\")\n",
    "ylabel(\"Number of Accidents\")"
   ]
  },
  {
   "cell_type": "code",
   "execution_count": 6,
   "metadata": {},
   "outputs": [
    {
     "data": {
      "text/html": [
       "<table class=\"data-frame\"><thead><tr><th></th><th>light</th><th>count</th></tr><tr><th></th><th>String⍰</th><th>Int64</th></tr></thead><tbody><p>4 rows × 2 columns</p><tr><th>1</th><td>Dark</td><td>2442</td></tr><tr><th>2</th><td>Overcast</td><td>2467</td></tr><tr><th>3</th><td>Bright Sun</td><td>1719</td></tr><tr><th>4</th><td>Twilight</td><td>330</td></tr></tbody></table>"
      ],
      "text/latex": [
       "\\begin{tabular}{r|cc}\n",
       "\t& light & count\\\\\n",
       "\t\\hline\n",
       "\t& String⍰ & Int64\\\\\n",
       "\t\\hline\n",
       "\t1 & Dark & 2442 \\\\\n",
       "\t2 & Overcast & 2467 \\\\\n",
       "\t3 & Bright Sun & 1719 \\\\\n",
       "\t4 & Twilight & 330 \\\\\n",
       "\\end{tabular}\n"
      ],
      "text/plain": [
       "4×2 DataFrame\n",
       "│ Row │ light      │ count │\n",
       "│     │ \u001b[90mString⍰\u001b[39m    │ \u001b[90mInt64\u001b[39m │\n",
       "├─────┼────────────┼───────┤\n",
       "│ 1   │ Dark       │ 2442  │\n",
       "│ 2   │ Overcast   │ 2467  │\n",
       "│ 3   │ Bright Sun │ 1719  │\n",
       "│ 4   │ Twilight   │ 330   │"
      ]
     },
     "execution_count": 6,
     "metadata": {},
     "output_type": "execute_result"
    },
    {
     "name": "stderr",
     "output_type": "stream",
     "text": [
      "┌ Warning: `T` is deprecated, use `nonmissingtype` instead.\n",
      "│   caller = compacttype(::Type, ::Int64) at show.jl:39\n",
      "└ @ DataFrames C:\\Users\\user\\.julia\\packages\\DataFrames\\Iyo5L\\src\\abstractdataframe\\show.jl:39\n"
     ]
    }
   ],
   "source": [
    "# Light condtion for  Moderate Curve\n",
    "using DataFramesMeta\n",
    "CrashAnalysis_ModCurve= @where(CrashAnalysis_df, :roadCurvat .== \"Moderate Curve\")\n",
    "\n",
    "CrashAnalysis_ModCurve=by(CrashAnalysis_ModCurve,:light, d -> DataFrame(count=nrow(d)))"
   ]
  },
  {
   "cell_type": "code",
   "execution_count": 7,
   "metadata": {},
   "outputs": [
    {
     "data": {
      "image/png": "[encoded data removed]",
      "text/plain": [
       "Figure(PyObject <Figure size 1000x1000 with 1 Axes>)"
      ]
     },
     "metadata": {},
     "output_type": "display_data"
    },
    {
     "name": "stderr",
     "output_type": "stream",
     "text": [
      "┌ Warning: `getindex(df::DataFrame, col_ind::ColumnIndex)` is deprecated, use `df[!, col_ind]` instead.\n",
      "│   caller = top-level scope at In[7]:3\n",
      "└ @ Core In[7]:3\n",
      "┌ Warning: `getindex(df::DataFrame, col_ind::ColumnIndex)` is deprecated, use `df[!, col_ind]` instead.\n",
      "│   caller = top-level scope at In[7]:5\n",
      "└ @ Core In[7]:5\n"
     ]
    },
    {
     "data": {
      "text/plain": [
       "PyObject Text(24.000000000000014, 0.5, 'Number of Accidents')"
      ]
     },
     "execution_count": 7,
     "metadata": {},
     "output_type": "execute_result"
    }
   ],
   "source": [
    "# Bar Plot for number of road fatalities in different light condition \n",
    "using PyPlot\n",
    "\n",
    "x=CrashAnalysis_ModCurve[:light]\n",
    "y=CrashAnalysis_ModCurve[:count]\n",
    "\n",
    "fig = figure(\"pyplot_barplot\",figsize=(10,10))\n",
    "subplot(211)\n",
    "b = bar(x,y,color=\"#FFA500\",align=\"center\",alpha=0.4)\n",
    "axis(\"tight\")\n",
    "PyPlot.title(\"Light Condition on Moderate Curve Vs Road Accidents\")\n",
    "grid(\"on\")\n",
    "xlabel(\"Light Condition in Moderate Curve\")\n",
    "ylabel(\"Number of Accidents\")"
   ]
  },
  {
   "cell_type": "code",
   "execution_count": 8,
   "metadata": {},
   "outputs": [
    {
     "data": {
      "text/html": [
       "<table class=\"data-frame\"><thead><tr><th></th><th>light</th><th>count</th></tr><tr><th></th><th>String⍰</th><th>Int64</th></tr></thead><tbody><p>4 rows × 2 columns</p><tr><th>1</th><td>Dark</td><td>17</td></tr><tr><th>2</th><td>Overcast</td><td>16</td></tr><tr><th>3</th><td>Bright Sun</td><td>15</td></tr><tr><th>4</th><td>Twilight</td><td>2</td></tr></tbody></table>"
      ],
      "text/latex": [
       "\\begin{tabular}{r|cc}\n",
       "\t& light & count\\\\\n",
       "\t\\hline\n",
       "\t& String⍰ & Int64\\\\\n",
       "\t\\hline\n",
       "\t1 & Dark & 17 \\\\\n",
       "\t2 & Overcast & 16 \\\\\n",
       "\t3 & Bright Sun & 15 \\\\\n",
       "\t4 & Twilight & 2 \\\\\n",
       "\\end{tabular}\n"
      ],
      "text/plain": [
       "4×2 DataFrame\n",
       "│ Row │ light      │ count │\n",
       "│     │ \u001b[90mString⍰\u001b[39m    │ \u001b[90mInt64\u001b[39m │\n",
       "├─────┼────────────┼───────┤\n",
       "│ 1   │ Dark       │ 17    │\n",
       "│ 2   │ Overcast   │ 16    │\n",
       "│ 3   │ Bright Sun │ 15    │\n",
       "│ 4   │ Twilight   │ 2     │"
      ]
     },
     "execution_count": 8,
     "metadata": {},
     "output_type": "execute_result"
    }
   ],
   "source": [
    " # Light condtion for  Severe Curve\n",
    " using DataFramesMeta\n",
    "CrashAnalysis_SevereCurve= @where(CrashAnalysis_df, :roadCurvat .== \"Severe Curve\")\n",
    "\n",
    "CrashAnalysis_SevereCurve=by(CrashAnalysis_SevereCurve,:light, d -> DataFrame(count=nrow(d)))"
   ]
  },
  {
   "cell_type": "code",
   "execution_count": 11,
   "metadata": {},
   "outputs": [
    {
     "data": {
      "image/png": "[encoded data removed]",
      "text/plain": [
       "Figure(PyObject <Figure size 1000x1000 with 1 Axes>)"
      ]
     },
     "metadata": {},
     "output_type": "display_data"
    },
    {
     "name": "stderr",
     "output_type": "stream",
     "text": [
      "┌ Warning: `getindex(df::DataFrame, col_ind::ColumnIndex)` is deprecated, use `df[!, col_ind]` instead.\n",
      "│   caller = top-level scope at In[11]:3\n",
      "└ @ Core In[11]:3\n",
      "┌ Warning: `getindex(df::DataFrame, col_ind::ColumnIndex)` is deprecated, use `df[!, col_ind]` instead.\n",
      "│   caller = top-level scope at In[11]:5\n",
      "└ @ Core In[11]:5\n"
     ]
    },
    {
     "data": {
      "text/plain": [
       "PyObject Text(23.999999999999993, 0.5, 'Number of Accidents')"
      ]
     },
     "execution_count": 11,
     "metadata": {},
     "output_type": "execute_result"
    }
   ],
   "source": [
    "# Bar Plot for number of road fatalities in different light condition \n",
    "using PyPlot\n",
    "\n",
    "x=CrashAnalysis_SevereCurve[:light]\n",
    "y=CrashAnalysis_SevereCurve[:count]\n",
    "\n",
    "fig = figure(\"pyplot_barplot\",figsize=(10,10))\n",
    "subplot(211)\n",
    "b = bar(x,y,color=\"#FA8072\",align=\"center\",alpha=0.4)\n",
    "axis(\"tight\")\n",
    "PyPlot.title(\"Light Condition on Severe Curve Vs Road Accidents\")\n",
    "grid(\"on\")\n",
    "xlabel(\"Light Condition in Severe Curve\")\n",
    "ylabel(\"Number of Accidents\")"
   ]
  },
  {
   "cell_type": "code",
   "execution_count": 12,
   "metadata": {},
   "outputs": [
    {
     "data": {
      "text/html": [
       "<table class=\"data-frame\"><thead><tr><th></th><th>light</th><th>count</th></tr><tr><th></th><th>String⍰</th><th>Int64</th></tr></thead><tbody><p>5 rows × 2 columns</p><tr><th>1</th><td>Dark</td><td>202</td></tr><tr><th>2</th><td>Bright Sun</td><td>232</td></tr><tr><th>3</th><td>Overcast</td><td>195</td></tr><tr><th>4</th><td>Twilight</td><td>29</td></tr><tr><th>5</th><td>Unknown</td><td>1</td></tr></tbody></table>"
      ],
      "text/latex": [
       "\\begin{tabular}{r|cc}\n",
       "\t& light & count\\\\\n",
       "\t\\hline\n",
       "\t& String⍰ & Int64\\\\\n",
       "\t\\hline\n",
       "\t1 & Dark & 202 \\\\\n",
       "\t2 & Bright Sun & 232 \\\\\n",
       "\t3 & Overcast & 195 \\\\\n",
       "\t4 & Twilight & 29 \\\\\n",
       "\t5 & Unknown & 1 \\\\\n",
       "\\end{tabular}\n"
      ],
      "text/plain": [
       "5×2 DataFrame\n",
       "│ Row │ light      │ count │\n",
       "│     │ \u001b[90mString⍰\u001b[39m    │ \u001b[90mInt64\u001b[39m │\n",
       "├─────┼────────────┼───────┤\n",
       "│ 1   │ Dark       │ 202   │\n",
       "│ 2   │ Bright Sun │ 232   │\n",
       "│ 3   │ Overcast   │ 195   │\n",
       "│ 4   │ Twilight   │ 29    │\n",
       "│ 5   │ Unknown    │ 1     │"
      ]
     },
     "execution_count": 12,
     "metadata": {},
     "output_type": "execute_result"
    }
   ],
   "source": [
    "# Light condtion for  Easy Curve\n",
    "using DataFramesMeta\n",
    "CrashAnalysis_EasyCurve= @where(CrashAnalysis_df, :roadCurvat .== \"Easy Curve\")\n",
    "\n",
    "CrashAnalysis_EasyCurve=by(CrashAnalysis_EasyCurve,:light, d -> DataFrame(count=nrow(d)))"
   ]
  },
  {
   "cell_type": "code",
   "execution_count": 14,
   "metadata": {},
   "outputs": [
    {
     "data": {
      "image/png": "[encoded data removed]",
      "text/plain": [
       "Figure(PyObject <Figure size 1000x1000 with 1 Axes>)"
      ]
     },
     "metadata": {},
     "output_type": "display_data"
    },
    {
     "name": "stderr",
     "output_type": "stream",
     "text": [
      "┌ Warning: `getindex(df::DataFrame, col_ind::ColumnIndex)` is deprecated, use `df[!, col_ind]` instead.\n",
      "│   caller = top-level scope at In[14]:3\n",
      "└ @ Core In[14]:3\n",
      "┌ Warning: `getindex(df::DataFrame, col_ind::ColumnIndex)` is deprecated, use `df[!, col_ind]` instead.\n",
      "│   caller = top-level scope at In[14]:5\n",
      "└ @ Core In[14]:5\n"
     ]
    },
    {
     "data": {
      "text/plain": [
       "PyObject Text(23.999999999999993, 0.5, 'Number of Accidents')"
      ]
     },
     "execution_count": 14,
     "metadata": {},
     "output_type": "execute_result"
    }
   ],
   "source": [
    "# Bar Plot for number of road fatalities in different light condition \n",
    "using PyPlot\n",
    "\n",
    "x=CrashAnalysis_EasyCurve[:light]\n",
    "y=CrashAnalysis_EasyCurve[:count]\n",
    "\n",
    "fig = figure(\"pyplot_barplot\",figsize=(10,10))\n",
    "subplot(211)\n",
    "b = bar(x,y,color=\"#FFFF00\",align=\"center\",alpha=0.4)\n",
    "axis(\"tight\")\n",
    "PyPlot.title(\"Light Condition on Severe Curve Vs Road Accidents\")\n",
    "grid(\"on\")\n",
    "xlabel(\"Light Condition in Easy Curve\")\n",
    "ylabel(\"Number of Accidents\")"
   ]
  },
  {
   "cell_type": "code",
   "execution_count": null,
   "metadata": {},
   "outputs": [],
   "source": []
  }
 ],
 "metadata": {
  "kernelspec": {
   "display_name": "Julia 1.1.1",
   "language": "julia",
   "name": "julia-1.1"
  },
  "language_info": {
   "name": ""
  }
 },
 "nbformat": 4,
 "nbformat_minor": 4
}
